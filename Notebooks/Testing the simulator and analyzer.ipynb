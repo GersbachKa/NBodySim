{
 "cells": [
  {
   "cell_type": "code",
   "execution_count": null,
   "metadata": {},
   "outputs": [],
   "source": [
    "%load_ext autoreload\n",
    "%autoreload 2\n",
    "import os\n",
    "\n",
    "import sys\n",
    "sys.path.insert(0,os.path.dirname(os.getcwd()))\n",
    "\n",
    "from nbodysim.simulator import Simulator\n",
    "from nbodysim.analyzer import Analyzer\n",
    "\n",
    "import numpy as np\n"
   ]
  },
  {
   "cell_type": "code",
   "execution_count": null,
   "metadata": {
    "scrolled": true
   },
   "outputs": [],
   "source": [
    "help(Simulator)"
   ]
  },
  {
   "cell_type": "code",
   "execution_count": null,
   "metadata": {},
   "outputs": [],
   "source": [
    "G=6.67259 * (10**-11)\n",
    "\n",
    "\n",
    "#Data taken from NASA Moon fact sheet\n",
    "MEarth = 5.97*(10**24)\n",
    "MMoon = 7.35*(10**22)\n",
    "REarth = 6.38*(10**6)\n",
    "RMoon = 1.74*(10**6)\n",
    "\n",
    "Mperigee = 3.63*(10**8)\n",
    "relativeV = 1.082*(10**3)\n",
    "\n",
    "#Correct for linear momentum\n",
    "dV = (MMoon*relativeV)/(MMoon+MEarth) \n",
    "\n",
    "\n",
    "ra = (Mperigee)*1.2\n",
    "\n",
    "sim = Simulator(name='Earth-Moon',notebook=True)\n",
    "sim.addMass(name='Earth',mass=MEarth,radius=REarth,yVel=-dV,color=(0,200,150))\n",
    "sim.addMass(name='Moon',mass=MMoon,radius=RMoon,xPos=Mperigee,yVel=relativeV-dV,color=(150,150,150))"
   ]
  },
  {
   "cell_type": "code",
   "execution_count": null,
   "metadata": {},
   "outputs": [],
   "source": [
    "sim.play(dt=1,numSteps=int(60*60),save=True,pause=.01,\n",
    "         plotFirst=True,axes=('x','y'),plotRange=(-ra,ra))"
   ]
  },
  {
   "cell_type": "code",
   "execution_count": null,
   "metadata": {},
   "outputs": [],
   "source": [
    "ana = Analyzer(path = os.getcwd()+'/Earth-Moon')\n",
    "#ana = Analyzer(simulator=sim)\n",
    "ana.plot(['Moon'],['x'])"
   ]
  },
  {
   "cell_type": "code",
   "execution_count": null,
   "metadata": {},
   "outputs": [],
   "source": [
    "sim2 = Simulator(True)\n",
    "sim2.addMass('M1',10**12,1,0,0,0,0,-.3,0)\n",
    "sim2.addMass('M2',1,.1,40,0,0,-.1,0,0)\n",
    "sim2.setPlot(plotTitle='Test',plotRange=(-50,50))"
   ]
  },
  {
   "cell_type": "code",
   "execution_count": null,
   "metadata": {},
   "outputs": [],
   "source": [
    "sim2.play(.001,1000,pause=.1)"
   ]
  },
  {
   "cell_type": "code",
   "execution_count": null,
   "metadata": {},
   "outputs": [],
   "source": [
    "m1 = sim2.getMass('M1')\n",
    "m2 = sim2.getMass('M2')\n",
    "print(m1.getVelocities())\n",
    "print(m2.getVelocities())"
   ]
  }
 ],
 "metadata": {
  "kernelspec": {
   "display_name": "Python 3",
   "language": "python",
   "name": "python3"
  },
  "language_info": {
   "codemirror_mode": {
    "name": "ipython",
    "version": 3
   },
   "file_extension": ".py",
   "mimetype": "text/x-python",
   "name": "python",
   "nbconvert_exporter": "python",
   "pygments_lexer": "ipython3",
   "version": "3.7.6"
  }
 },
 "nbformat": 4,
 "nbformat_minor": 4
}
