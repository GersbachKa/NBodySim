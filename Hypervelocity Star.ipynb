{
 "cells": [
  {
   "cell_type": "code",
   "execution_count": null,
   "metadata": {},
   "outputs": [],
   "source": [
    "%load_ext autoreload\n",
    "%autoreload 2\n",
    "from nbodysim.Simulator import Simulator\n",
    "from nbodysim.Analyzer import Analyzer\n",
    "from nbodysim.Utils import periapsisFinder,rotate3DVector\n",
    "import matplotlib.pyplot as plt\n",
    "import numpy as np"
   ]
  },
  {
   "cell_type": "code",
   "execution_count": null,
   "metadata": {},
   "outputs": [],
   "source": [
    "pos,vel=periapsisFinder(7.2e31, 1.2e11, eccentricity=0, inclination=0)\n",
    "initialmomentum=(5.8e31)*(vel)\n",
    "dV=(-(initialmomentum)/(7.2e31+5.8e31))\n",
    "\n",
    "dP=-(5.8e31)*(pos)/(7.2e31+5.8e31)\n",
    "\n",
    "print(pos,dP)\n",
    "print(dV)"
   ]
  },
  {
   "cell_type": "code",
   "execution_count": null,
   "metadata": {},
   "outputs": [],
   "source": [
    "sim2 = Simulator(name='Hyperstar')\n",
    "\n",
    "sim2.addObject(name='BH1',mass=7.2e31,radius=1.9e10,position=dP,velocity=dV,color=(0,0,255))\n",
    "\n",
    "sim2.addObject(name='BH2',mass=5.8e31,radius=6.2e9,position=pos+dP,velocity=vel+dV,color=(255,0,0))\n",
    "\n",
    "\n",
    "#mag = 1e5\n",
    "#direction = (np.pi)/(10)\n",
    "#HVSvelocity = np.array([(mag)*np.cos(direction),(mag)*np.sin(direction),0])\n",
    "pos1,vel1 = periapsisFinder(7.2e31,1e12,.95,0)\n",
    "pos1 += dP\n",
    "pos1 = rotate3DVector(pos1,'z',np.pi,False)\n",
    "vel1 = rotate3DVector(vel1,'z',np.pi,False)\n",
    "sim2.addObject(name='HVS' ,mass=2e30, radius=7e5, position=pos1, velocity=vel1, color=(0,255,0))\n"
   ]
  },
  {
   "cell_type": "code",
   "execution_count": null,
   "metadata": {},
   "outputs": [],
   "source": [
    "print(sim2.getTotalEnergy('HVS'))\n",
    "v = (sim2.getObject('HVS').velocity)\n",
    "magnitude = np.sqrt(np.sum(np.square(v)))\n",
    "print(magnitude)\n",
    "print(vel1)\n"
   ]
  },
  {
   "cell_type": "code",
   "execution_count": null,
   "metadata": {},
   "outputs": [],
   "source": [
    "sim2.plot(axes=('x','y'),plotRange=None,plotSize=(600,600),trails=True)"
   ]
  },
  {
   "cell_type": "code",
   "execution_count": null,
   "metadata": {},
   "outputs": [],
   "source": [
    "sim2.play(dt=10,numberOfSteps=60*6,save=True,plotFirst=False)"
   ]
  },
  {
   "cell_type": "code",
   "execution_count": null,
   "metadata": {},
   "outputs": [],
   "source": [
    "ana = Analyzer('Hyperstar')\n",
    "ana.plot(['BH1','BH2','HVS'],['vy','vy','vy'])"
   ]
  },
  {
   "cell_type": "code",
   "execution_count": null,
   "metadata": {},
   "outputs": [],
   "source": [
    "time = ana.objectData['HVS'][:,0]\n",
    "vel2 = ana.objectData['HVS'][:,6:9]\n",
    "\n",
    "m = np.zeros(len(time))\n",
    "\n",
    "for i in range(len(time)):\n",
    "    c = vel2[i]\n",
    "    m[i] = np.sqrt(c.dot(c))\n",
    "\n"
   ]
  },
  {
   "cell_type": "code",
   "execution_count": null,
   "metadata": {},
   "outputs": [],
   "source": [
    "plt.figure(figsize = (10,8))\n",
    "plt.title(\"Magnitude of Velocity of HVS\")\n",
    "plt.xlabel('time in seconds')\n",
    "plt.ylabel('Magnitude of Velocity in m/s')\n",
    "plt.plot(time,m)\n",
    "plt.show()"
   ]
  },
  {
   "cell_type": "code",
   "execution_count": null,
   "metadata": {},
   "outputs": [],
   "source": [
    "z = self.getObject(nameOrIndex)\n",
    "kineticEnergy = (1/2)*(z.mass)*(z.velocity.dot(z.velocity))\n",
    "        \n",
    "potentialEnergy = 0\n",
    "        \n",
    "for i in range(self.objectCount):\n",
    "            \n",
    "    y = self.allObjects[i]\n",
    "            \n",
    "    if y != z:\n",
    "        dif = ((z.position[0]-y.position[0]))\n",
    "        pE = (-self.G*z.mass*y.mass)/np.sqrt(dif.dot(dif))\n",
    "        potentialEnergy += pE \n",
    "                \n",
    "return(kineticEnergy + potentialEnergy)"
   ]
  },
  {
   "cell_type": "code",
   "execution_count": null,
   "metadata": {},
   "outputs": [],
   "source": [
    "time = ana.objectData['HVS'][:,0]\n",
    "vel2 = ana.objectData['HVS'][:,6:9]\n",
    "targetMass = ana.objectData['HVS'][0,1]\n",
    "targetPosition = ana.objectData['HVS'][:,3:6]\n",
    "G = 6.67e-11\n",
    "\n",
    "e = np.zeros(len(time))\n",
    "k = np.zeros(len(time))\n",
    "p = np.zeros(len(time))\n",
    "\n",
    "for t in range(len(time)):\n",
    "    currentVel = vel2[t]\n",
    "    ke = currentVel.dot(currentVel)*targetMass*(1/2)\n",
    "    currentPosition = targetPosition[t]\n",
    "    pe = 0\n",
    "    \n",
    "\n",
    "    for key in (ana.objectData):\n",
    "        if key != 'HVS':\n",
    "            otherPosition = ana.objectData[key][t,3:6]\n",
    "            otherMass = ana.objectData[key][0,1]\n",
    "            dif = ((currentPosition - otherPosition))\n",
    "            pe += (-G*targetMass*otherMass)/np.sqrt(dif.dot(dif))\n",
    "            \n",
    "    e[t] = ke + pe\n",
    "    k[t] = ke\n",
    "    p[t] = pe\n",
    "    \n"
   ]
  },
  {
   "cell_type": "code",
   "execution_count": null,
   "metadata": {},
   "outputs": [],
   "source": [
    "plt.figure(figsize = (10,8))\n",
    "plt.title(\"Total Energy of HVS\")\n",
    "plt.xlabel('time in seconds')\n",
    "plt.ylabel('Total Energy in Joules')\n",
    "plt.plot(time,e,label='Total Energy')\n",
    "plt.plot(time,k,label='Kinetic Energy')\n",
    "plt.plot(time,p,label='Potential Energy')\n",
    "plt.legend(loc='upper left')\n",
    "plt.show()"
   ]
  },
  {
   "cell_type": "code",
   "execution_count": null,
   "metadata": {},
   "outputs": [],
   "source": []
  }
 ],
 "metadata": {
  "kernelspec": {
   "display_name": "Python 3",
   "language": "python",
   "name": "python3"
  },
  "language_info": {
   "codemirror_mode": {
    "name": "ipython",
    "version": 3
   },
   "file_extension": ".py",
   "mimetype": "text/x-python",
   "name": "python",
   "nbconvert_exporter": "python",
   "pygments_lexer": "ipython3",
   "version": "3.8.3"
  }
 },
 "nbformat": 4,
 "nbformat_minor": 4
}
