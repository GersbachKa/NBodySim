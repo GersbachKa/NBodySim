{
 "cells": [
  {
   "cell_type": "code",
   "execution_count": null,
   "metadata": {},
   "outputs": [],
   "source": [
    "%load_ext autoreload\n",
    "%autoreload 2\n",
    "from nbodysim.Simulator import Simulator\n",
    "from nbodysim.Analyzer import Analyzer\n",
    "from nbodysim.Utils import periapsisFinder, rotate3DVector\n",
    "import numpy as np"
   ]
  },
  {
   "cell_type": "code",
   "execution_count": null,
   "metadata": {},
   "outputs": [],
   "source": [
    "sim1 = Simulator(name='Sun-Mercury',notebook=True)"
   ]
  },
  {
   "cell_type": "code",
   "execution_count": null,
   "metadata": {},
   "outputs": [],
   "source": [
    "peri = 46.002e9\n",
    "maxSpeed = 58.98e3\n",
    "\n",
    "mPos = [peri,0,0]\n",
    "mVel = [0,maxSpeed,0]"
   ]
  },
  {
   "cell_type": "code",
   "execution_count": null,
   "metadata": {},
   "outputs": [],
   "source": [
    "sim1.addObject(name=\"Sun\",mass=1.989e30,radius=696.34e6,color=(239,142,56))\n",
    "sim1.addObject(name=\"Mercury\",mass=3.285e23,radius=2.43e6,position=mPos,velocity=mVel,color=(219,206,202))"
   ]
  },
  {
   "cell_type": "code",
   "execution_count": null,
   "metadata": {},
   "outputs": [],
   "source": [
    "sim1.play(dt=10,numberOfSteps=60*6,save=True,plotFirst=True,axes=('x','y'),plotRange=None,trails=True)"
   ]
  },
  {
   "cell_type": "code",
   "execution_count": null,
   "metadata": {},
   "outputs": [],
   "source": [
    "ana = Analyzer(\"Sun-Mercury\")\n",
    "ana.plot([\"Mercury\",'Mercury'],['x','y'])"
   ]
  },
  {
   "cell_type": "code",
   "execution_count": null,
   "metadata": {},
   "outputs": [],
   "source": [
    "sim2 = Simulator(name='Saturn-Titan')\n",
    "\n",
    "sim2.addObject(name='Saturn',mass=5.683e26,radius=58.232e6,color=(250,229,191))\n",
    "\n",
    "pos, vel = periapsisFinder(5.683e26,1221e6,.0292,.33)\n",
    "sim2.addObject(name='Titan',mass=1.345e20,radius=2575e3,position=pos,velocity=vel,color=(0,0,255))"
   ]
  },
  {
   "cell_type": "code",
   "execution_count": null,
   "metadata": {},
   "outputs": [],
   "source": [
    "sim2.plot(axes=('x','y'),plotRange=None,plotSize=(600,600),trails=True)"
   ]
  },
  {
   "cell_type": "code",
   "execution_count": null,
   "metadata": {},
   "outputs": [],
   "source": [
    "sim2.play(dt=10,numberOfSteps=60*6,save=True,plotFirst=False)"
   ]
  },
  {
   "cell_type": "code",
   "execution_count": null,
   "metadata": {},
   "outputs": [],
   "source": [
    "ana2 = Analyzer('Saturn-Titan')\n",
    "ana2.plot(['Titan','Saturn','Titan'],['vx','vy','vz'])"
   ]
  },
  {
   "cell_type": "code",
   "execution_count": null,
   "metadata": {},
   "outputs": [],
   "source": [
    "ana2.objectData[\"Titan\"]"
   ]
  },
  {
   "cell_type": "code",
   "execution_count": null,
   "metadata": {},
   "outputs": [],
   "source": [
    "sim3 = Simulator(name='CollisionTest')\n",
    "sim3.addObject(name='o1',mass=10,radius=.1,position=[0,0,0],velocity=[0,0,0])\n",
    "sim3.addObject(name='o2',mass=15,radius=.1,position=[1,0,0],velocity=[-.1,0,0],color=(255,0,0))\n",
    "sim3.addObject(name='o3',mass=9,radius=.1,position=[.01,0,0],velocity=[0,0,0],color=(0,255,0))\n",
    "sim3.addObject(name='o4',mass=9,radius=.1,position=[0,.01,0],velocity=[0,0,0],color=(0,0,255))\n",
    "sim3.plot(plotRange=((-1.5,1.5),(-1.5,1.5)),trails=False)\n",
    "sim3.play(.1,10,plotFirst=False,pause=0.1)"
   ]
  },
  {
   "cell_type": "code",
   "execution_count": null,
   "metadata": {},
   "outputs": [],
   "source": []
  }
 ],
 "metadata": {
  "kernelspec": {
   "display_name": "Python 3",
   "language": "python",
   "name": "python3"
  },
  "language_info": {
   "codemirror_mode": {
    "name": "ipython",
    "version": 3
   },
   "file_extension": ".py",
   "mimetype": "text/x-python",
   "name": "python",
   "nbconvert_exporter": "python",
   "pygments_lexer": "ipython3",
   "version": "3.7.6"
  }
 },
 "nbformat": 4,
 "nbformat_minor": 4
}
