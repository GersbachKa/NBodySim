{
 "cells": [
  {
   "cell_type": "code",
   "execution_count": null,
   "metadata": {},
   "outputs": [],
   "source": [
    "%load_ext autoreload\n",
    "%autoreload 2\n",
    "from nbodysim.Simulator import Simulator\n",
    "from nbodysim.Analyzer import Analyzer\n",
    "from nbodysim.Utils import periapsisFinder\n",
    "import numpy as np"
   ]
  },
  {
   "cell_type": "code",
   "execution_count": null,
   "metadata": {},
   "outputs": [],
   "source": [
    "sim1 = Simulator(name='Sun-Mercury',notebook=True)"
   ]
  },
  {
   "cell_type": "code",
   "execution_count": null,
   "metadata": {},
   "outputs": [],
   "source": [
    "peri = 46.002e9\n",
    "maxSpeed = 58.98e3\n",
    "\n",
    "mPos = [-peri,0,0]\n",
    "mVel = [0,-maxSpeed,0]"
   ]
  },
  {
   "cell_type": "code",
   "execution_count": null,
   "metadata": {},
   "outputs": [],
   "source": [
    "sim1.addObject(name=\"Sun\",mass=1.989e30,radius=696.34e6,color=(239,142,56))\n",
    "sim1.addObject(name=\"Mercury\",mass=3.285e23,radius=2.43e6,position=mPos,velocity=mVel,color=(219,206,202))"
   ]
  },
  {
   "cell_type": "code",
   "execution_count": null,
   "metadata": {},
   "outputs": [],
   "source": [
    "for i in range(200):\n",
    "    sim1.step(dt=10,numberOfSteps=60*6,save=True)"
   ]
  },
  {
   "cell_type": "code",
   "execution_count": null,
   "metadata": {},
   "outputs": [],
   "source": [
    "ana = Analyzer(\"Sun-Mercury\")\n",
    "ana.plot([\"Mercury\",'Mercury'],['x','y'])"
   ]
  },
  {
   "cell_type": "code",
   "execution_count": null,
   "metadata": {},
   "outputs": [],
   "source": [
    "sim2 = Simulator(name='Saturn-Titan')"
   ]
  },
  {
   "cell_type": "code",
   "execution_count": null,
   "metadata": {},
   "outputs": [],
   "source": [
    "sim2.addObject(name='Saturn',mass=5.683e26,radius=58.232e6,color=(250,229,191))\n",
    "\n",
    "pos, vel = periapsisFinder(5.683e26,1221e6,.0292,.33)\n",
    "sim2.addObject(name='Titan',mass=1.345e20,radius=2575e3,position=pos,velocity=vel,color=(0,0,0))\n"
   ]
  },
  {
   "cell_type": "code",
   "execution_count": null,
   "metadata": {},
   "outputs": [],
   "source": [
    "sim2.play(dt=1,numberOfSteps=60*60,save=True,pause=.01,)"
   ]
  },
  {
   "cell_type": "code",
   "execution_count": null,
   "metadata": {},
   "outputs": [],
   "source": [
    "ana2 = Analyzer('Saturn-Titan',notebook=True)\n",
    "ana2.plot(['Titan','Titan'],['vx','vy'])"
   ]
  }
 ],
 "metadata": {
  "kernelspec": {
   "display_name": "Python 3",
   "language": "python",
   "name": "python3"
  },
  "language_info": {
   "codemirror_mode": {
    "name": "ipython",
    "version": 3
   },
   "file_extension": ".py",
   "mimetype": "text/x-python",
   "name": "python",
   "nbconvert_exporter": "python",
   "pygments_lexer": "ipython3",
   "version": "3.7.6"
  }
 },
 "nbformat": 4,
 "nbformat_minor": 4
}
