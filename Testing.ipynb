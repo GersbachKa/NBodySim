{
 "cells": [
  {
   "cell_type": "code",
   "execution_count": null,
   "metadata": {},
   "outputs": [],
   "source": [
    "import sys\n",
    "sys.path.insert(0,'nbodysim')\n",
    "from nbodysim.simulator import Simulator\n",
    "import numpy as np"
   ]
  },
  {
   "cell_type": "code",
   "execution_count": null,
   "metadata": {},
   "outputs": [],
   "source": [
    "G=6.67259 * (10**-11)\n",
    "\n",
    "MEarth = 6*(10**24)\n",
    "MMoon = 7.35*(10**22)\n",
    "REarth = 6*(10**6)\n",
    "RMoon = 1.7*(10**6)\n",
    "orbitR = 3.63*(10**8)\n",
    "orbitV = np.sqrt((G*MEarth)/orbitR)\n",
    "\n",
    "#fix Linear momentum problem\n",
    "#total lin momentum = MMoon * orbitV\n",
    "#fixed: MMoon*orbitV = MMoon*(V) + MEarth*(V)\n",
    "fixV = (MMoon*orbitV)/(MMoon+MEarth) \n",
    "\n",
    "ra = (REarth+RMoon+orbitR)*1.2\n",
    "\n",
    "sim = Simulator(notebook=True)\n",
    "sim.addMass(name='Earth',mass=MEarth,radius=REarth,yVel=-fixV)\n",
    "sim.addMass(name='Moon',mass=MMoon,radius=RMoon,xPos=orbitR,yVel=orbitV-fixV)\n",
    "sim.addMass(name='Moon2',mass=MMoon,radius=RMoon,zPos=orbitR,xVel=orbitV-fixV)\n",
    "\n",
    "#sim.plot(axes=('x','y'),plotRange=(-ra,ra))"
   ]
  },
  {
   "cell_type": "code",
   "execution_count": null,
   "metadata": {},
   "outputs": [],
   "source": [
    "help(Simulator)"
   ]
  },
  {
   "cell_type": "code",
   "execution_count": null,
   "metadata": {},
   "outputs": [],
   "source": [
    "sim.play(dt=2,numSteps=int(60*60/2),pause=0,plotFirst=True,axes=('x','y'),plotRange=(-ra,ra))"
   ]
  },
  {
   "cell_type": "code",
   "execution_count": null,
   "metadata": {},
   "outputs": [],
   "source": [
    "sim2 = Simulator(True)\n",
    "sim2.addMass('M1',10**12,1,0,0,0,0,-.3,0)\n",
    "sim2.addMass('M2',1,.1,40,0,0,-.1,0,0)\n",
    "sim2.setPlot(plotTitle='Test',plotRange=(-50,50))"
   ]
  },
  {
   "cell_type": "code",
   "execution_count": null,
   "metadata": {},
   "outputs": [],
   "source": [
    "sim2.play(.001,1000,pause=.1)"
   ]
  },
  {
   "cell_type": "code",
   "execution_count": null,
   "metadata": {},
   "outputs": [],
   "source": [
    "m1 = sim2.getMass('M1').getVelocities()\n",
    "m2 = sim2.getMass('M2').getVelocities()\n",
    "print(m1)\n",
    "print(m2)"
   ]
  }
 ],
 "metadata": {
  "kernelspec": {
   "display_name": "Python 3",
   "language": "python",
   "name": "python3"
  },
  "language_info": {
   "codemirror_mode": {
    "name": "ipython",
    "version": 3
   },
   "file_extension": ".py",
   "mimetype": "text/x-python",
   "name": "python",
   "nbconvert_exporter": "python",
   "pygments_lexer": "ipython3",
   "version": "3.7.6"
  }
 },
 "nbformat": 4,
 "nbformat_minor": 4
}
